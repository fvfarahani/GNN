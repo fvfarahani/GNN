{
  "nbformat": 4,
  "nbformat_minor": 0,
  "metadata": {
    "colab": {
      "provenance": [],
      "authorship_tag": "ABX9TyPYxmwOKIx/m/BwalpVncPq",
      "include_colab_link": true
    },
    "kernelspec": {
      "name": "python3",
      "display_name": "Python 3"
    },
    "language_info": {
      "name": "python"
    },
    "accelerator": "GPU",
    "gpuClass": "standard"
  },
  "cells": [
    {
      "cell_type": "markdown",
      "metadata": {
        "id": "view-in-github",
        "colab_type": "text"
      },
      "source": [
        "<a href=\"https://colab.research.google.com/github/fvfarahani/GNN/blob/main/GNN.ipynb\" target=\"_parent\"><img src=\"https://colab.research.google.com/assets/colab-badge.svg\" alt=\"Open In Colab\"/></a>"
      ]
    },
    {
      "cell_type": "code",
      "execution_count": 14,
      "metadata": {
        "colab": {
          "base_uri": "https://localhost:8080/"
        },
        "id": "ZVxi_lHzx9hb",
        "outputId": "e18b0ed0-bfeb-4423-fc18-3e3c7566315a"
      },
      "outputs": [
        {
          "output_type": "stream",
          "name": "stdout",
          "text": [
            "Looking in indexes: https://pypi.org/simple, https://us-python.pkg.dev/colab-wheels/public/simple/\n",
            "Looking in links: https://data.pyg.org/whl/torch-1.13.0+cu116.html\n",
            "Requirement already satisfied: torch-scatter in /usr/local/lib/python3.8/dist-packages (2.1.0+pt113cu116)\n",
            "Looking in indexes: https://pypi.org/simple, https://us-python.pkg.dev/colab-wheels/public/simple/\n",
            "Looking in links: https://data.pyg.org/whl/torch-1.13.0+cu116.html\n",
            "Requirement already satisfied: torch-sparse in /usr/local/lib/python3.8/dist-packages (0.6.16+pt113cu116)\n",
            "Requirement already satisfied: scipy in /usr/local/lib/python3.8/dist-packages (from torch-sparse) (1.7.3)\n",
            "Requirement already satisfied: numpy<1.23.0,>=1.16.5 in /usr/local/lib/python3.8/dist-packages (from scipy->torch-sparse) (1.21.6)\n",
            "Looking in indexes: https://pypi.org/simple, https://us-python.pkg.dev/colab-wheels/public/simple/\n",
            "Requirement already satisfied: tsfresh in /usr/local/lib/python3.8/dist-packages (0.20.0)\n",
            "Requirement already satisfied: pandas>=0.25.0 in /usr/local/lib/python3.8/dist-packages (from tsfresh) (1.3.5)\n",
            "Requirement already satisfied: cloudpickle in /usr/local/lib/python3.8/dist-packages (from tsfresh) (2.2.1)\n",
            "Requirement already satisfied: tqdm>=4.10.0 in /usr/local/lib/python3.8/dist-packages (from tsfresh) (4.64.1)\n",
            "Requirement already satisfied: scikit-learn>=0.22.0 in /usr/local/lib/python3.8/dist-packages (from tsfresh) (1.0.2)\n",
            "Requirement already satisfied: stumpy>=1.7.2 in /usr/local/lib/python3.8/dist-packages (from tsfresh) (1.11.1)\n",
            "Requirement already satisfied: numpy>=1.15.1 in /usr/local/lib/python3.8/dist-packages (from tsfresh) (1.21.6)\n",
            "Requirement already satisfied: scipy>=1.2.0 in /usr/local/lib/python3.8/dist-packages (from tsfresh) (1.7.3)\n",
            "Requirement already satisfied: dask[dataframe]>=2.9.0 in /usr/local/lib/python3.8/dist-packages (from tsfresh) (2022.2.1)\n",
            "Requirement already satisfied: statsmodels>=0.13 in /usr/local/lib/python3.8/dist-packages (from tsfresh) (0.13.5)\n",
            "Requirement already satisfied: distributed>=2.11.0 in /usr/local/lib/python3.8/dist-packages (from tsfresh) (2022.2.1)\n",
            "Requirement already satisfied: requests>=2.9.1 in /usr/local/lib/python3.8/dist-packages (from tsfresh) (2.25.1)\n",
            "Requirement already satisfied: patsy>=0.4.1 in /usr/local/lib/python3.8/dist-packages (from tsfresh) (0.5.3)\n",
            "Requirement already satisfied: partd>=0.3.10 in /usr/local/lib/python3.8/dist-packages (from dask[dataframe]>=2.9.0->tsfresh) (1.3.0)\n",
            "Requirement already satisfied: packaging>=20.0 in /usr/local/lib/python3.8/dist-packages (from dask[dataframe]>=2.9.0->tsfresh) (23.0)\n",
            "Requirement already satisfied: pyyaml>=5.3.1 in /usr/local/lib/python3.8/dist-packages (from dask[dataframe]>=2.9.0->tsfresh) (6.0)\n",
            "Requirement already satisfied: fsspec>=0.6.0 in /usr/local/lib/python3.8/dist-packages (from dask[dataframe]>=2.9.0->tsfresh) (2023.1.0)\n",
            "Requirement already satisfied: toolz>=0.8.2 in /usr/local/lib/python3.8/dist-packages (from dask[dataframe]>=2.9.0->tsfresh) (0.12.0)\n",
            "Requirement already satisfied: setuptools in /usr/local/lib/python3.8/dist-packages (from distributed>=2.11.0->tsfresh) (57.4.0)\n",
            "Requirement already satisfied: tblib>=1.6.0 in /usr/local/lib/python3.8/dist-packages (from distributed>=2.11.0->tsfresh) (1.7.0)\n",
            "Requirement already satisfied: sortedcontainers!=2.0.0,!=2.0.1 in /usr/local/lib/python3.8/dist-packages (from distributed>=2.11.0->tsfresh) (2.4.0)\n",
            "Requirement already satisfied: tornado>=6.0.3 in /usr/local/lib/python3.8/dist-packages (from distributed>=2.11.0->tsfresh) (6.0.4)\n",
            "Requirement already satisfied: zict>=0.1.3 in /usr/local/lib/python3.8/dist-packages (from distributed>=2.11.0->tsfresh) (2.2.0)\n",
            "Requirement already satisfied: psutil>=5.0 in /usr/local/lib/python3.8/dist-packages (from distributed>=2.11.0->tsfresh) (5.9.4)\n",
            "Requirement already satisfied: jinja2 in /usr/local/lib/python3.8/dist-packages (from distributed>=2.11.0->tsfresh) (2.11.3)\n",
            "Requirement already satisfied: click>=6.6 in /usr/local/lib/python3.8/dist-packages (from distributed>=2.11.0->tsfresh) (7.1.2)\n",
            "Requirement already satisfied: msgpack>=0.6.0 in /usr/local/lib/python3.8/dist-packages (from distributed>=2.11.0->tsfresh) (1.0.4)\n",
            "Requirement already satisfied: python-dateutil>=2.7.3 in /usr/local/lib/python3.8/dist-packages (from pandas>=0.25.0->tsfresh) (2.8.2)\n",
            "Requirement already satisfied: pytz>=2017.3 in /usr/local/lib/python3.8/dist-packages (from pandas>=0.25.0->tsfresh) (2022.7.1)\n",
            "Requirement already satisfied: six in /usr/local/lib/python3.8/dist-packages (from patsy>=0.4.1->tsfresh) (1.15.0)\n",
            "Requirement already satisfied: urllib3<1.27,>=1.21.1 in /usr/local/lib/python3.8/dist-packages (from requests>=2.9.1->tsfresh) (1.24.3)\n",
            "Requirement already satisfied: certifi>=2017.4.17 in /usr/local/lib/python3.8/dist-packages (from requests>=2.9.1->tsfresh) (2022.12.7)\n",
            "Requirement already satisfied: idna<3,>=2.5 in /usr/local/lib/python3.8/dist-packages (from requests>=2.9.1->tsfresh) (2.10)\n",
            "Requirement already satisfied: chardet<5,>=3.0.2 in /usr/local/lib/python3.8/dist-packages (from requests>=2.9.1->tsfresh) (4.0.0)\n",
            "Requirement already satisfied: threadpoolctl>=2.0.0 in /usr/local/lib/python3.8/dist-packages (from scikit-learn>=0.22.0->tsfresh) (3.1.0)\n",
            "Requirement already satisfied: joblib>=0.11 in /usr/local/lib/python3.8/dist-packages (from scikit-learn>=0.22.0->tsfresh) (1.2.0)\n",
            "Requirement already satisfied: numba>=0.54 in /usr/local/lib/python3.8/dist-packages (from stumpy>=1.7.2->tsfresh) (0.56.4)\n",
            "Requirement already satisfied: llvmlite<0.40,>=0.39.0dev0 in /usr/local/lib/python3.8/dist-packages (from numba>=0.54->stumpy>=1.7.2->tsfresh) (0.39.1)\n",
            "Requirement already satisfied: importlib-metadata in /usr/local/lib/python3.8/dist-packages (from numba>=0.54->stumpy>=1.7.2->tsfresh) (6.0.0)\n",
            "Requirement already satisfied: locket in /usr/local/lib/python3.8/dist-packages (from partd>=0.3.10->dask[dataframe]>=2.9.0->tsfresh) (1.0.0)\n",
            "Requirement already satisfied: heapdict in /usr/local/lib/python3.8/dist-packages (from zict>=0.1.3->distributed>=2.11.0->tsfresh) (1.0.1)\n",
            "Requirement already satisfied: MarkupSafe>=0.23 in /usr/local/lib/python3.8/dist-packages (from jinja2->distributed>=2.11.0->tsfresh) (2.0.1)\n",
            "Requirement already satisfied: zipp>=0.5 in /usr/local/lib/python3.8/dist-packages (from importlib-metadata->numba>=0.54->stumpy>=1.7.2->tsfresh) (3.12.1)\n",
            "Looking in indexes: https://pypi.org/simple, https://us-python.pkg.dev/colab-wheels/public/simple/\n",
            "Requirement already satisfied: karateclub in /usr/local/lib/python3.8/dist-packages (1.3.3)\n",
            "Requirement already satisfied: tqdm in /usr/local/lib/python3.8/dist-packages (from karateclub) (4.64.1)\n",
            "Requirement already satisfied: scipy in /usr/local/lib/python3.8/dist-packages (from karateclub) (1.7.3)\n",
            "Requirement already satisfied: scikit-learn in /usr/local/lib/python3.8/dist-packages (from karateclub) (1.0.2)\n",
            "Requirement already satisfied: python-Levenshtein in /usr/local/lib/python3.8/dist-packages (from karateclub) (0.20.9)\n",
            "Requirement already satisfied: gensim>=4.0.0 in /usr/local/lib/python3.8/dist-packages (from karateclub) (4.3.0)\n",
            "Requirement already satisfied: pandas<=1.3.5 in /usr/local/lib/python3.8/dist-packages (from karateclub) (1.3.5)\n",
            "Requirement already satisfied: python-louvain in /usr/local/lib/python3.8/dist-packages (from karateclub) (0.16)\n",
            "Requirement already satisfied: six in /usr/local/lib/python3.8/dist-packages (from karateclub) (1.15.0)\n",
            "Requirement already satisfied: networkx<2.7 in /usr/local/lib/python3.8/dist-packages (from karateclub) (2.6.3)\n",
            "Requirement already satisfied: pygsp in /usr/local/lib/python3.8/dist-packages (from karateclub) (0.5.1)\n",
            "Requirement already satisfied: numpy<1.23.0 in /usr/local/lib/python3.8/dist-packages (from karateclub) (1.21.6)\n",
            "Requirement already satisfied: decorator==4.4.2 in /usr/local/lib/python3.8/dist-packages (from karateclub) (4.4.2)\n",
            "Requirement already satisfied: smart-open>=1.8.1 in /usr/local/lib/python3.8/dist-packages (from gensim>=4.0.0->karateclub) (6.3.0)\n",
            "Requirement already satisfied: FuzzyTM>=0.4.0 in /usr/local/lib/python3.8/dist-packages (from gensim>=4.0.0->karateclub) (2.0.5)\n",
            "Requirement already satisfied: python-dateutil>=2.7.3 in /usr/local/lib/python3.8/dist-packages (from pandas<=1.3.5->karateclub) (2.8.2)\n",
            "Requirement already satisfied: pytz>=2017.3 in /usr/local/lib/python3.8/dist-packages (from pandas<=1.3.5->karateclub) (2022.7.1)\n",
            "Requirement already satisfied: Levenshtein==0.20.9 in /usr/local/lib/python3.8/dist-packages (from python-Levenshtein->karateclub) (0.20.9)\n",
            "Requirement already satisfied: rapidfuzz<3.0.0,>=2.3.0 in /usr/local/lib/python3.8/dist-packages (from Levenshtein==0.20.9->python-Levenshtein->karateclub) (2.13.7)\n",
            "Requirement already satisfied: threadpoolctl>=2.0.0 in /usr/local/lib/python3.8/dist-packages (from scikit-learn->karateclub) (3.1.0)\n",
            "Requirement already satisfied: joblib>=0.11 in /usr/local/lib/python3.8/dist-packages (from scikit-learn->karateclub) (1.2.0)\n",
            "Requirement already satisfied: pyfume in /usr/local/lib/python3.8/dist-packages (from FuzzyTM>=0.4.0->gensim>=4.0.0->karateclub) (0.2.25)\n",
            "Requirement already satisfied: simpful in /usr/local/lib/python3.8/dist-packages (from pyfume->FuzzyTM>=0.4.0->gensim>=4.0.0->karateclub) (2.9.0)\n",
            "Requirement already satisfied: fst-pso in /usr/local/lib/python3.8/dist-packages (from pyfume->FuzzyTM>=0.4.0->gensim>=4.0.0->karateclub) (1.8.1)\n",
            "Requirement already satisfied: miniful in /usr/local/lib/python3.8/dist-packages (from fst-pso->pyfume->FuzzyTM>=0.4.0->gensim>=4.0.0->karateclub) (0.0.6)\n",
            "Requirement already satisfied: requests in /usr/local/lib/python3.8/dist-packages (from simpful->pyfume->FuzzyTM>=0.4.0->gensim>=4.0.0->karateclub) (2.25.1)\n",
            "Requirement already satisfied: urllib3<1.27,>=1.21.1 in /usr/local/lib/python3.8/dist-packages (from requests->simpful->pyfume->FuzzyTM>=0.4.0->gensim>=4.0.0->karateclub) (1.24.3)\n",
            "Requirement already satisfied: chardet<5,>=3.0.2 in /usr/local/lib/python3.8/dist-packages (from requests->simpful->pyfume->FuzzyTM>=0.4.0->gensim>=4.0.0->karateclub) (4.0.0)\n",
            "Requirement already satisfied: idna<3,>=2.5 in /usr/local/lib/python3.8/dist-packages (from requests->simpful->pyfume->FuzzyTM>=0.4.0->gensim>=4.0.0->karateclub) (2.10)\n",
            "Requirement already satisfied: certifi>=2017.4.17 in /usr/local/lib/python3.8/dist-packages (from requests->simpful->pyfume->FuzzyTM>=0.4.0->gensim>=4.0.0->karateclub) (2022.12.7)\n",
            "Looking in indexes: https://pypi.org/simple, https://us-python.pkg.dev/colab-wheels/public/simple/\n",
            "Requirement already satisfied: captum in /usr/local/lib/python3.8/dist-packages (0.6.0)\n",
            "Requirement already satisfied: numpy in /usr/local/lib/python3.8/dist-packages (from captum) (1.21.6)\n",
            "Requirement already satisfied: matplotlib in /usr/local/lib/python3.8/dist-packages (from captum) (3.2.2)\n",
            "Requirement already satisfied: torch>=1.6 in /usr/local/lib/python3.8/dist-packages (from captum) (1.13.1+cu116)\n",
            "Requirement already satisfied: typing-extensions in /usr/local/lib/python3.8/dist-packages (from torch>=1.6->captum) (4.4.0)\n",
            "Requirement already satisfied: pyparsing!=2.0.4,!=2.1.2,!=2.1.6,>=2.0.1 in /usr/local/lib/python3.8/dist-packages (from matplotlib->captum) (3.0.9)\n",
            "Requirement already satisfied: cycler>=0.10 in /usr/local/lib/python3.8/dist-packages (from matplotlib->captum) (0.11.0)\n",
            "Requirement already satisfied: python-dateutil>=2.1 in /usr/local/lib/python3.8/dist-packages (from matplotlib->captum) (2.8.2)\n",
            "Requirement already satisfied: kiwisolver>=1.0.1 in /usr/local/lib/python3.8/dist-packages (from matplotlib->captum) (1.4.4)\n",
            "Requirement already satisfied: six>=1.5 in /usr/local/lib/python3.8/dist-packages (from python-dateutil>=2.1->matplotlib->captum) (1.15.0)\n"
          ]
        }
      ],
      "source": [
        "# Install required packages.\n",
        "# !pip install -q torch-scatter -f https://pytorch-geometric.com/whl/torch-1.9.0+cu111.html\n",
        "# !pip install -q torch-sparse -f https://pytorch-geometric.com/whl/torch-1.9.0+cu111.html\n",
        "# !pip uninstall torch-scatter\n",
        "# !pip uninstall torch-sparse\n",
        "# !pip install -q torch-scatter -f https://data.pyg.org/whl/torch-1.12.0+cu116.html\n",
        "!pip install torch-scatter -f https://data.pyg.org/whl/torch-1.13.0+cu116.html \n",
        "!pip install torch-sparse -f https://data.pyg.org/whl/torch-1.13.0+cu116.html\n",
        "# !pip install -q torch-sparse -f https://data.pyg.org/whl/torch-1.12.0+cu116.html\n",
        "!pip install -q torch-geometric\n",
        "!pip install tsfresh\n",
        "!pip install karateclub\n",
        "!pip install captum"
      ]
    },
    {
      "cell_type": "markdown",
      "source": [
        "To activate GPU as the hardware accelerator, go to the \"Runtime\" menu, select \"Change runtime type\", and then choose \"GPU\" as the hardware accelerator."
      ],
      "metadata": {
        "id": "avw8GBtO0ISl"
      }
    },
    {
      "cell_type": "code",
      "source": [
        "gpu_info = !nvidia-smi\n",
        "gpu_info = '\\n'.join(gpu_info)\n",
        "if gpu_info.find('failed') >= 0:\n",
        "  print('Not connected to a GPU')\n",
        "else:\n",
        "  print(gpu_info)"
      ],
      "metadata": {
        "colab": {
          "base_uri": "https://localhost:8080/"
        },
        "id": "Nm9NQ_nIyz1i",
        "outputId": "ce6b2573-e402-4698-8fdd-29778db18c64"
      },
      "execution_count": 15,
      "outputs": [
        {
          "output_type": "stream",
          "name": "stdout",
          "text": [
            "Tue Feb 14 17:56:03 2023       \n",
            "+-----------------------------------------------------------------------------+\n",
            "| NVIDIA-SMI 510.47.03    Driver Version: 510.47.03    CUDA Version: 11.6     |\n",
            "|-------------------------------+----------------------+----------------------+\n",
            "| GPU  Name        Persistence-M| Bus-Id        Disp.A | Volatile Uncorr. ECC |\n",
            "| Fan  Temp  Perf  Pwr:Usage/Cap|         Memory-Usage | GPU-Util  Compute M. |\n",
            "|                               |                      |               MIG M. |\n",
            "|===============================+======================+======================|\n",
            "|   0  Tesla T4            Off  | 00000000:00:04.0 Off |                    0 |\n",
            "| N/A   50C    P0    29W /  70W |      0MiB / 15360MiB |      0%      Default |\n",
            "|                               |                      |                  N/A |\n",
            "+-------------------------------+----------------------+----------------------+\n",
            "                                                                               \n",
            "+-----------------------------------------------------------------------------+\n",
            "| Processes:                                                                  |\n",
            "|  GPU   GI   CI        PID   Type   Process name                  GPU Memory |\n",
            "|        ID   ID                                                   Usage      |\n",
            "|=============================================================================|\n",
            "|  No running processes found                                                 |\n",
            "+-----------------------------------------------------------------------------+\n"
          ]
        }
      ]
    },
    {
      "cell_type": "markdown",
      "source": [
        "Checking the amount of available RAM (Random Access Memory) in your Google Colab runtime environment."
      ],
      "metadata": {
        "id": "ZkK9U5Vv1JTj"
      }
    },
    {
      "cell_type": "code",
      "source": [
        "from psutil import virtual_memory\n",
        "ram_gb = virtual_memory().total / 1e9\n",
        "print('Your runtime has {:.1f} gigabytes of available RAM\\n'.format(ram_gb))\n",
        "\n",
        "if ram_gb < 20:\n",
        "  print('Not using a high-RAM runtime')\n",
        "else:\n",
        "  print('You are using a high-RAM runtime!')"
      ],
      "metadata": {
        "colab": {
          "base_uri": "https://localhost:8080/"
        },
        "id": "4wddon_Z0sYI",
        "outputId": "d10b03cc-35fe-451f-e091-b4b8a78cb1b4"
      },
      "execution_count": 16,
      "outputs": [
        {
          "output_type": "stream",
          "name": "stdout",
          "text": [
            "Your runtime has 13.6 gigabytes of available RAM\n",
            "\n",
            "Not using a high-RAM runtime\n"
          ]
        }
      ]
    },
    {
      "cell_type": "code",
      "source": [
        "import numpy as np\n",
        "import pickle\n",
        "import os\n",
        "from google.colab import drive\n",
        "drive.mount('/content/drive')"
      ],
      "metadata": {
        "colab": {
          "base_uri": "https://localhost:8080/"
        },
        "id": "TcHE1sKe3iCR",
        "outputId": "32c4046a-70f7-41a2-ff81-d073c9e70cfa"
      },
      "execution_count": 17,
      "outputs": [
        {
          "output_type": "stream",
          "name": "stdout",
          "text": [
            "Drive already mounted at /content/drive; to attempt to forcibly remount, call drive.mount(\"/content/drive\", force_remount=True).\n"
          ]
        }
      ]
    },
    {
      "cell_type": "code",
      "source": [
        "cd /content/drive/MyDrive/gnn-framework"
      ],
      "metadata": {
        "colab": {
          "base_uri": "https://localhost:8080/"
        },
        "id": "dpgMpEy08hd6",
        "outputId": "748c1da2-cfcd-4d6b-92ca-2b6738f3e29e"
      },
      "execution_count": 18,
      "outputs": [
        {
          "output_type": "stream",
          "name": "stdout",
          "text": [
            "/content/drive/MyDrive/gnn-framework\n"
          ]
        }
      ]
    },
    {
      "cell_type": "code",
      "source": [
        "# This is already computed, but i left the code so that you can use it if you wish\n",
        "recompute_data = False\n",
        "if recompute_data:\n",
        "\n",
        "  # Load raw files and filestack\n",
        "  np1 = 'source_data/fmri_ms_240_200/ts_disk1/ts/Healthycontrol.npy'\n",
        "  np2 = 'source_data/fmri_ms_240_200/ts_disk2/ts/patients.npy'\n",
        "  np1 = np.load(np1)\n",
        "  np2 = np.load(np2)\n",
        "  npa = np.vstack([np1, np2])\n",
        "  try:\n",
        "    os.mkdir('source_data/fmri_ms_240_200/ts')\n",
        "  except FileExistsError:\n",
        "      pass\n",
        "  np.save('source_data/fmri_ms_240_200/ts/all.npy', np.round(npa.astype(np.float16), 3))\n",
        "\n",
        "  np1 = 'source_data/fmri_ms_240_200/fc_disk1/fc/corr_Healthycontrol.npy'\n",
        "  np2 = 'source_data/fmri_ms_240_200/fc_disk2/fc/corr_patients.npy'\n",
        "  np1 = np.load(np1)\n",
        "  np2 = np.load(np2)\n",
        "  npa = np.vstack([np1, np2])\n",
        "  try:\n",
        "    os.mkdir('source_data/fmri_ms_240_200/fc')\n",
        "  except FileExistsError:\n",
        "      pass\n",
        "  np.save('source_data/fmri_ms_240_200/fc/all.npy', np.round(npa.astype(np.float16), 3))\n",
        "\n",
        "  # read patient id files and create target variable list (y_list)\n",
        "  s1 = 'source_data/fmri_ms_240_200/subjectsID_disk1.npy'\n",
        "  s2 = 'source_data/fmri_ms_240_200/subjectsID_disk2.npy'\n",
        "  s1 = np.load(s1)\n",
        "  s2 = np.load(s2)\n",
        "  y_list = [0] * len(s1)\n",
        "  y_list.extend([1] * len(s2))\n",
        "\n",
        "  with open('source_data/fmri_ms_240_200/patienthc_y_list.pkl', 'wb') as f:\n",
        "    pickle.dump(y_list, f)\n",
        "\n",
        "else:\n",
        "  with open('source_data/fmri_ms_199_200/patienthc_y_list.pkl', 'rb') as f:\n",
        "    y_list = pickle.load(f) "
      ],
      "metadata": {
        "id": "6Nl492jzEnmO"
      },
      "execution_count": 23,
      "outputs": []
    },
    {
      "cell_type": "code",
      "source": [
        "print(len(y_list))\n",
        "print(y_list)"
      ],
      "metadata": {
        "colab": {
          "base_uri": "https://localhost:8080/"
        },
        "id": "2CXTHc5iF40m",
        "outputId": "0443ad77-45bf-4e6c-bda8-1cdd6c253171"
      },
      "execution_count": 24,
      "outputs": [
        {
          "output_type": "stream",
          "name": "stdout",
          "text": [
            "199\n",
            "[0, 0, 0, 0, 0, 0, 0, 0, 0, 0, 0, 0, 0, 0, 0, 0, 0, 0, 0, 0, 0, 0, 0, 0, 0, 0, 0, 0, 0, 0, 0, 0, 0, 0, 0, 0, 0, 0, 0, 0, 0, 0, 0, 0, 0, 0, 0, 0, 0, 0, 0, 0, 0, 0, 0, 0, 0, 0, 0, 0, 0, 0, 0, 0, 0, 0, 0, 0, 0, 0, 0, 0, 0, 0, 1, 1, 1, 1, 1, 1, 1, 1, 1, 1, 1, 1, 1, 1, 1, 1, 1, 1, 1, 1, 1, 1, 1, 1, 1, 1, 1, 1, 1, 1, 1, 1, 1, 1, 1, 1, 1, 1, 1, 1, 1, 1, 1, 1, 1, 1, 1, 1, 1, 1, 1, 1, 1, 1, 1, 1, 1, 1, 1, 1, 1, 1, 1, 1, 1, 1, 1, 1, 1, 1, 1, 1, 1, 1, 1, 1, 1, 1, 1, 1, 1, 1, 1, 1, 1, 1, 1, 1, 1, 1, 1, 1, 1, 1, 1, 1, 1, 1, 1, 1, 1, 1, 1, 1, 1, 1, 1, 1, 1, 1, 1, 1, 1, 1, 1, 1, 1, 1, 1, 1, 1, 1, 1, 1, 1]\n"
          ]
        }
      ]
    },
    {
      "cell_type": "code",
      "source": [
        "!pip uninstall numpy\n",
        "!pip install numpy==1.23.5"
      ],
      "metadata": {
        "colab": {
          "base_uri": "https://localhost:8080/"
        },
        "id": "jOBbyjyPLfuB",
        "outputId": "470344b4-406c-49d0-939b-2741bc1fcba0"
      },
      "execution_count": 26,
      "outputs": [
        {
          "output_type": "stream",
          "name": "stdout",
          "text": [
            "Found existing installation: numpy 1.21.6\n",
            "Uninstalling numpy-1.21.6:\n",
            "  Would remove:\n",
            "    /usr/local/bin/f2py\n",
            "    /usr/local/bin/f2py3\n",
            "    /usr/local/bin/f2py3.8\n",
            "    /usr/local/lib/python3.8/dist-packages/numpy-1.21.6.dist-info/*\n",
            "    /usr/local/lib/python3.8/dist-packages/numpy.libs/libgfortran-2e0d59d6.so.5.0.0\n",
            "    /usr/local/lib/python3.8/dist-packages/numpy.libs/libopenblasp-r0-2d23e62b.3.17.so\n",
            "    /usr/local/lib/python3.8/dist-packages/numpy.libs/libquadmath-2d0c479f.so.0.0.0\n",
            "    /usr/local/lib/python3.8/dist-packages/numpy/*\n",
            "Proceed (Y/n)? Y\n",
            "  Successfully uninstalled numpy-1.21.6\n",
            "Looking in indexes: https://pypi.org/simple, https://us-python.pkg.dev/colab-wheels/public/simple/\n",
            "Collecting numpy==1.23.5\n",
            "  Downloading numpy-1.23.5-cp38-cp38-manylinux_2_17_x86_64.manylinux2014_x86_64.whl (17.1 MB)\n",
            "\u001b[2K     \u001b[90m━━━━━━━━━━━━━━━━━━━━━━━━━━━━━━━━━━━━━━━━\u001b[0m \u001b[32m17.1/17.1 MB\u001b[0m \u001b[31m75.9 MB/s\u001b[0m eta \u001b[36m0:00:00\u001b[0m\n",
            "\u001b[?25hInstalling collected packages: numpy\n",
            "\u001b[31mERROR: pip's dependency resolver does not currently take into account all the packages that are installed. This behaviour is the source of the following dependency conflicts.\n",
            "scipy 1.7.3 requires numpy<1.23.0,>=1.16.5, but you have numpy 1.23.5 which is incompatible.\n",
            "karateclub 1.3.3 requires numpy<1.23.0, but you have numpy 1.23.5 which is incompatible.\u001b[0m\u001b[31m\n",
            "\u001b[0mSuccessfully installed numpy-1.23.5\n"
          ]
        }
      ]
    },
    {
      "cell_type": "code",
      "source": [
        "!python3 run.py"
      ],
      "metadata": {
        "colab": {
          "base_uri": "https://localhost:8080/"
        },
        "id": "6fXIxlzrKq6B",
        "outputId": "88f3ece5-4ef4-4316-fc4b-c1b8f1f83b08"
      },
      "execution_count": 27,
      "outputs": [
        {
          "output_type": "stream",
          "name": "stdout",
          "text": [
            "/usr/local/lib/python3.8/dist-packages/scipy/__init__.py:146: UserWarning: A NumPy version >=1.16.5 and <1.23.0 is required for this version of SciPy (detected version 1.23.5\n",
            "  warnings.warn(f\"A NumPy version >={np_minversion} and <{np_maxversion}\"\n",
            "The analyzed config is:  config_fmri_ms_400_240_gcn.py\n",
            "\n",
            "Now analyzing data set: fmri_ms_240_400\n",
            "Now running model: GCN\n",
            "Feature set extracted from time series: ts_fresh\n",
            "compute node embeddings: True\n",
            "node embedding method: NodeSketch\n",
            "number of hidden channels:60\n",
            "threshold: -2\n",
            "graph type: full\n",
            "batch size: 32\n",
            "add_degree_to_node_features: False\n",
            "\n",
            "Loading data set\n",
            "Traceback (most recent call last):\n",
            "  File \"run.py\", line 235, in <module>\n",
            "    run_all_experiments(model_list, hidden_channel_list, threshold_list, graph_type_list,\n",
            "  File \"run.py\", line 197, in run_all_experiments\n",
            "    run(config)\n",
            "  File \"run.py\", line 23, in run\n",
            "    dataset, test_run_name_for_whole_dataset, y_list, test_run_name = gfw.utils.load_dataset(config)\n",
            "  File \"/content/drive/MyDrive/gnn-framework/gnn_fw/utils.py\", line 808, in load_dataset\n",
            "    preprocess_mri_resting_state_data(selected_dataset=config.selected_dataset,\n",
            "  File \"/content/drive/MyDrive/gnn-framework/gnn_fw/utils.py\", line 211, in preprocess_mri_resting_state_data\n",
            "    = derive_time_series_features(dir_name, test_run_name, filenames, features, printout, threshold, recompute)\n",
            "  File \"/content/drive/MyDrive/gnn-framework/gnn_fw/utils.py\", line 510, in derive_time_series_features\n",
            "    corr_ = np.round(np.load(filenames[0], allow_pickle=True).astype(np.float16), 3)\n",
            "  File \"/usr/local/lib/python3.8/dist-packages/numpy/lib/npyio.py\", line 405, in load\n",
            "    fid = stack.enter_context(open(os_fspath(file), \"rb\"))\n",
            "FileNotFoundError: [Errno 2] No such file or directory: 'source_data/fmri_ms_240_400/fc/all.npy'\n"
          ]
        }
      ]
    }
  ]
}